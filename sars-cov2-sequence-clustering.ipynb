{
 "cells": [
  {
   "cell_type": "markdown",
   "execution_count": null,
   "metadata": {},
   "source": [
    "# Load Sequences"
   ]
  },
  {
   "cell_type": "code",
   "execution_count": 1,
   "metadata": {},
   "outputs": [],
   "source": [
    "import numpy as np\n",
    "import pandas as pd\n",
    "from itertools import chain\n",
    "from itertools import product as iterproduct\n",
    "import warnings\n",
    "import pickle\n",
    "import matplotlib.pyplot as plt\n",
    "%matplotlib inline\n",
    "\n",
    "np.random.seed(7) # fix random seed for reproducibility\n",
    "\n",
    "from Bio import SeqIO\n",
    "from Bio.Cluster import kcluster"
   ]
  },
  {
   "cell_type": "code",
   "execution_count": 2,
   "metadata": {
    "collapsed": true
   },
   "outputs": [
    {
     "name": "stdout",
     "output_type": "stream",
     "text": [
      "\u001b[33mWARNING: Retrying (Retry(total=4, connect=None, read=None, redirect=None, status=None)) after connection broken by 'NewConnectionError('<pip._vendor.urllib3.connection.VerifiedHTTPSConnection object at 0x7f2eafa28c90>: Failed to establish a new connection: [Errno -3] Temporary failure in name resolution')': /simple/sgt/\u001b[0m\r\n",
      "\u001b[33mWARNING: Retrying (Retry(total=3, connect=None, read=None, redirect=None, status=None)) after connection broken by 'NewConnectionError('<pip._vendor.urllib3.connection.VerifiedHTTPSConnection object at 0x7f2eaf9f46d0>: Failed to establish a new connection: [Errno -3] Temporary failure in name resolution')': /simple/sgt/\u001b[0m\r\n",
      "\u001b[33mWARNING: Retrying (Retry(total=2, connect=None, read=None, redirect=None, status=None)) after connection broken by 'NewConnectionError('<pip._vendor.urllib3.connection.VerifiedHTTPSConnection object at 0x7f2eaf9f4ed0>: Failed to establish a new connection: [Errno -3] Temporary failure in name resolution')': /simple/sgt/\u001b[0m\r\n",
      "\u001b[33mWARNING: Retrying (Retry(total=1, connect=None, read=None, redirect=None, status=None)) after connection broken by 'NewConnectionError('<pip._vendor.urllib3.connection.VerifiedHTTPSConnection object at 0x7f2eaf9f4410>: Failed to establish a new connection: [Errno -3] Temporary failure in name resolution')': /simple/sgt/\u001b[0m\r\n",
      "\u001b[33mWARNING: Retrying (Retry(total=0, connect=None, read=None, redirect=None, status=None)) after connection broken by 'NewConnectionError('<pip._vendor.urllib3.connection.VerifiedHTTPSConnection object at 0x7f2eaf9f4b90>: Failed to establish a new connection: [Errno -3] Temporary failure in name resolution')': /simple/sgt/\u001b[0m\r\n",
      "\u001b[31mERROR: Could not find a version that satisfies the requirement sgt (from versions: none)\u001b[0m\r\n",
      "\u001b[31mERROR: No matching distribution found for sgt\u001b[0m\r\n",
      "\u001b[33mWARNING: Retrying (Retry(total=4, connect=None, read=None, redirect=None, status=None)) after connection broken by 'NewConnectionError('<pip._vendor.urllib3.connection.VerifiedHTTPSConnection object at 0x7f2dfa54e890>: Failed to establish a new connection: [Errno -3] Temporary failure in name resolution')': /simple/pip/\u001b[0m\r\n",
      "\u001b[33mWARNING: Retrying (Retry(total=3, connect=None, read=None, redirect=None, status=None)) after connection broken by 'NewConnectionError('<pip._vendor.urllib3.connection.VerifiedHTTPSConnection object at 0x7f2dfa7fd090>: Failed to establish a new connection: [Errno -3] Temporary failure in name resolution')': /simple/pip/\u001b[0m\r\n",
      "\u001b[33mWARNING: Retrying (Retry(total=2, connect=None, read=None, redirect=None, status=None)) after connection broken by 'NewConnectionError('<pip._vendor.urllib3.connection.VerifiedHTTPSConnection object at 0x7f2dfa4e8e10>: Failed to establish a new connection: [Errno -3] Temporary failure in name resolution')': /simple/pip/\u001b[0m\r\n",
      "\u001b[33mWARNING: Retrying (Retry(total=1, connect=None, read=None, redirect=None, status=None)) after connection broken by 'NewConnectionError('<pip._vendor.urllib3.connection.VerifiedHTTPSConnection object at 0x7f2dfa4e8210>: Failed to establish a new connection: [Errno -3] Temporary failure in name resolution')': /simple/pip/\u001b[0m\r\n",
      "\u001b[33mWARNING: Retrying (Retry(total=0, connect=None, read=None, redirect=None, status=None)) after connection broken by 'NewConnectionError('<pip._vendor.urllib3.connection.VerifiedHTTPSConnection object at 0x7f2dfa4e8050>: Failed to establish a new connection: [Errno -3] Temporary failure in name resolution')': /simple/pip/\u001b[0m\r\n",
      "Requirement already up-to-date: pip in /opt/conda/lib/python3.7/site-packages (20.1)\r\n"
     ]
    },
    {
     "ename": "ModuleNotFoundError",
     "evalue": "No module named 'sgt'",
     "output_type": "error",
     "traceback": [
      "\u001b[0;31m---------------------------------------------------------------------------\u001b[0m",
      "\u001b[0;31mModuleNotFoundError\u001b[0m                       Traceback (most recent call last)",
      "\u001b[0;32m<ipython-input-2-31a31ef661b5>\u001b[0m in \u001b[0;36m<module>\u001b[0;34m\u001b[0m\n\u001b[1;32m      3\u001b[0m \u001b[0mget_ipython\u001b[0m\u001b[0;34m(\u001b[0m\u001b[0;34m)\u001b[0m\u001b[0;34m.\u001b[0m\u001b[0msystem\u001b[0m\u001b[0;34m(\u001b[0m\u001b[0;34m'pip install sgt pandarallel'\u001b[0m\u001b[0;34m)\u001b[0m\u001b[0;34m\u001b[0m\u001b[0;34m\u001b[0m\u001b[0m\n\u001b[1;32m      4\u001b[0m \u001b[0mget_ipython\u001b[0m\u001b[0;34m(\u001b[0m\u001b[0;34m)\u001b[0m\u001b[0;34m.\u001b[0m\u001b[0msystem\u001b[0m\u001b[0;34m(\u001b[0m\u001b[0;34m'python -m pip install --upgrade pip'\u001b[0m\u001b[0;34m)\u001b[0m\u001b[0;34m\u001b[0m\u001b[0;34m\u001b[0m\u001b[0m\n\u001b[0;32m----> 5\u001b[0;31m \u001b[0;32mfrom\u001b[0m \u001b[0msgt\u001b[0m \u001b[0;32mimport\u001b[0m \u001b[0mSGT\u001b[0m\u001b[0;34m\u001b[0m\u001b[0;34m\u001b[0m\u001b[0m\n\u001b[0m\u001b[1;32m      6\u001b[0m \u001b[0;32mimport\u001b[0m \u001b[0mpandarallel\u001b[0m\u001b[0;34m\u001b[0m\u001b[0;34m\u001b[0m\u001b[0m\n",
      "\u001b[0;31mModuleNotFoundError\u001b[0m: No module named 'sgt'"
     ]
    }
   ],
   "source": [
    "# Sequence Graph Transform (SGT)\n",
    "# https://github.com/cran2367/sgt\n",
    "!pip install sgt pandarallel\n",
    "!python -m pip install --upgrade pip\n",
    "from sgt import SGT\n",
    "import pandarallel"
   ]
  },
  {
   "cell_type": "code",
   "execution_count": 3,
   "metadata": {
    "_cell_guid": "79c7e3d0-c299-4dcb-8224-4455121ee9b0",
    "_uuid": "d629ff2d2480ee46fbb7e2d37f6b5fab8052498a"
   },
   "outputs": [],
   "source": [
    "nucleotides = list(SeqIO.parse(\"/kaggle/input/Sars-Cov2-proteins.fasta\", \"fasta\"))\n",
    "proteins = list(SeqIO.parse(\"/kaggle/input/Sars-Cov2-nucleotides.fasta\", \"fasta\"))"
   ]
  },
  {
   "cell_type": "markdown",
   "execution_count": null,
   "metadata": {},
   "source": [
    "## Nucleotides"
   ]
  },
  {
   "cell_type": "code",
   "execution_count": 4,
   "metadata": {},
   "outputs": [
    {
     "data": {
      "text/html": [
       "<div>\n",
       "<style scoped>\n",
       "    .dataframe tbody tr th:only-of-type {\n",
       "        vertical-align: middle;\n",
       "    }\n",
       "\n",
       "    .dataframe tbody tr th {\n",
       "        vertical-align: top;\n",
       "    }\n",
       "\n",
       "    .dataframe thead th {\n",
       "        text-align: right;\n",
       "    }\n",
       "</style>\n",
       "<table border=\"1\" class=\"dataframe\">\n",
       "  <thead>\n",
       "    <tr style=\"text-align: right;\">\n",
       "      <th></th>\n",
       "      <th>id</th>\n",
       "      <th>sequence</th>\n",
       "    </tr>\n",
       "  </thead>\n",
       "  <tbody>\n",
       "    <tr>\n",
       "      <th>0</th>\n",
       "      <td>YP_009742608.1</td>\n",
       "      <td>[M, E, S, L, V, P, G, F, N, E, K, T, H, V, Q, ...</td>\n",
       "    </tr>\n",
       "    <tr>\n",
       "      <th>1</th>\n",
       "      <td>YP_009742609.1</td>\n",
       "      <td>[A, Y, T, R, Y, V, D, N, N, F, C, G, P, D, G, ...</td>\n",
       "    </tr>\n",
       "    <tr>\n",
       "      <th>2</th>\n",
       "      <td>YP_009742610.1</td>\n",
       "      <td>[A, P, T, K, V, T, F, G, D, D, T, V, I, E, V, ...</td>\n",
       "    </tr>\n",
       "    <tr>\n",
       "      <th>3</th>\n",
       "      <td>YP_009742611.1</td>\n",
       "      <td>[K, I, V, N, N, W, L, K, Q, L, I, K, V, T, L, ...</td>\n",
       "    </tr>\n",
       "    <tr>\n",
       "      <th>4</th>\n",
       "      <td>YP_009742612.1</td>\n",
       "      <td>[S, G, F, R, K, M, A, F, P, S, G, K, V, E, G, ...</td>\n",
       "    </tr>\n",
       "    <tr>\n",
       "      <th>...</th>\n",
       "      <td>...</td>\n",
       "      <td>...</td>\n",
       "    </tr>\n",
       "    <tr>\n",
       "      <th>56065</th>\n",
       "      <td>QHD43419.1</td>\n",
       "      <td>[M, A, D, S, N, G, T, I, T, V, E, E, L, K, K, ...</td>\n",
       "    </tr>\n",
       "    <tr>\n",
       "      <th>56066</th>\n",
       "      <td>QHD43420.1</td>\n",
       "      <td>[M, F, H, L, V, D, F, Q, V, T, I, A, E, I, L, ...</td>\n",
       "    </tr>\n",
       "    <tr>\n",
       "      <th>56067</th>\n",
       "      <td>QHD43421.1</td>\n",
       "      <td>[M, K, I, I, L, F, L, A, L, I, T, L, A, T, C, ...</td>\n",
       "    </tr>\n",
       "    <tr>\n",
       "      <th>56068</th>\n",
       "      <td>QHD43422.1</td>\n",
       "      <td>[M, K, F, L, V, F, L, G, I, I, T, T, V, A, A, ...</td>\n",
       "    </tr>\n",
       "    <tr>\n",
       "      <th>56069</th>\n",
       "      <td>QHD43423.2</td>\n",
       "      <td>[M, S, D, N, G, P, Q, N, Q, R, N, A, P, R, I, ...</td>\n",
       "    </tr>\n",
       "  </tbody>\n",
       "</table>\n",
       "<p>56070 rows × 2 columns</p>\n",
       "</div>"
      ],
      "text/plain": [
       "                   id                                           sequence\n",
       "0      YP_009742608.1  [M, E, S, L, V, P, G, F, N, E, K, T, H, V, Q, ...\n",
       "1      YP_009742609.1  [A, Y, T, R, Y, V, D, N, N, F, C, G, P, D, G, ...\n",
       "2      YP_009742610.1  [A, P, T, K, V, T, F, G, D, D, T, V, I, E, V, ...\n",
       "3      YP_009742611.1  [K, I, V, N, N, W, L, K, Q, L, I, K, V, T, L, ...\n",
       "4      YP_009742612.1  [S, G, F, R, K, M, A, F, P, S, G, K, V, E, G, ...\n",
       "...               ...                                                ...\n",
       "56065      QHD43419.1  [M, A, D, S, N, G, T, I, T, V, E, E, L, K, K, ...\n",
       "56066      QHD43420.1  [M, F, H, L, V, D, F, Q, V, T, I, A, E, I, L, ...\n",
       "56067      QHD43421.1  [M, K, I, I, L, F, L, A, L, I, T, L, A, T, C, ...\n",
       "56068      QHD43422.1  [M, K, F, L, V, F, L, G, I, I, T, T, V, A, A, ...\n",
       "56069      QHD43423.2  [M, S, D, N, G, P, Q, N, Q, R, N, A, P, R, I, ...\n",
       "\n",
       "[56070 rows x 2 columns]"
      ]
     },
     "execution_count": 4,
     "metadata": {},
     "output_type": "execute_result"
    }
   ],
   "source": [
    "# Get a list of sequences as strings and their correspoing IDs\n",
    "\n",
    "ncl_ids = []\n",
    "ncl_seq = []\n",
    "ncl_dsc = []\n",
    "\n",
    "for item in nucleotides:\n",
    "    ncl_ids.append(item.id)\n",
    "    ncl_seq.append(str(item.seq))\n",
    "    ncl_dsc.append(item.description)\n",
    "    \n",
    "dataset = list(zip(ncl_ids,ncl_seq))\n",
    "metadata = list(zip(ncl_ids,ncl_dsc)) # might be required later\n",
    "\n",
    "corpus = pd.DataFrame(dataset, columns = ['id', 'sequence']) \n",
    "corpus['sequence'] = corpus['sequence'].map(list)\n",
    "corpus"
   ]
  },
  {
   "cell_type": "code",
   "execution_count": 5,
   "metadata": {},
   "outputs": [
    {
     "ename": "NameError",
     "evalue": "name 'SGT' is not defined",
     "output_type": "error",
     "traceback": [
      "\u001b[0;31m---------------------------------------------------------------------------\u001b[0m",
      "\u001b[0;31mNameError\u001b[0m                                 Traceback (most recent call last)",
      "\u001b[0;32m<ipython-input-5-1dd62cad7f6b>\u001b[0m in \u001b[0;36m<module>\u001b[0;34m\u001b[0m\n\u001b[0;32m----> 1\u001b[0;31m sgt_ = SGT(kappa=1, \n\u001b[0m\u001b[1;32m      2\u001b[0m            \u001b[0mlengthsensitive\u001b[0m\u001b[0;34m=\u001b[0m\u001b[0;32mFalse\u001b[0m\u001b[0;34m,\u001b[0m\u001b[0;34m\u001b[0m\u001b[0;34m\u001b[0m\u001b[0m\n\u001b[1;32m      3\u001b[0m            mode='multiprocessing')\n\u001b[1;32m      4\u001b[0m \u001b[0msgtembedding_df\u001b[0m \u001b[0;34m=\u001b[0m \u001b[0msgt_\u001b[0m\u001b[0;34m.\u001b[0m\u001b[0mfit_transform\u001b[0m\u001b[0;34m(\u001b[0m\u001b[0mcorpus\u001b[0m\u001b[0;34m)\u001b[0m\u001b[0;34m\u001b[0m\u001b[0;34m\u001b[0m\u001b[0m\n\u001b[1;32m      5\u001b[0m \u001b[0msgtembedding_df\u001b[0m\u001b[0;34m\u001b[0m\u001b[0;34m\u001b[0m\u001b[0m\n",
      "\u001b[0;31mNameError\u001b[0m: name 'SGT' is not defined"
     ]
    }
   ],
   "source": [
    "sgt_ = SGT(kappa=1, \n",
    "           lengthsensitive=False, \n",
    "           mode='multiprocessing')\n",
    "sgtembedding_df = sgt_.fit_transform(corpus)\n",
    "sgtembedding_df"
   ]
  },
  {
   "cell_type": "code",
   "execution_count": 6,
   "metadata": {},
   "outputs": [
    {
     "ename": "NameError",
     "evalue": "name 'sgtembedding_df' is not defined",
     "output_type": "error",
     "traceback": [
      "\u001b[0;31m---------------------------------------------------------------------------\u001b[0m",
      "\u001b[0;31mNameError\u001b[0m                                 Traceback (most recent call last)",
      "\u001b[0;32m<ipython-input-6-cdde77a37b92>\u001b[0m in \u001b[0;36m<module>\u001b[0;34m\u001b[0m\n\u001b[1;32m      1\u001b[0m \u001b[0;31m# Set the id column as the dataframe index\u001b[0m\u001b[0;34m\u001b[0m\u001b[0;34m\u001b[0m\u001b[0;34m\u001b[0m\u001b[0m\n\u001b[0;32m----> 2\u001b[0;31m \u001b[0msgtembedding_df\u001b[0m \u001b[0;34m=\u001b[0m \u001b[0msgtembedding_df\u001b[0m\u001b[0;34m.\u001b[0m\u001b[0mset_index\u001b[0m\u001b[0;34m(\u001b[0m\u001b[0;34m'id'\u001b[0m\u001b[0;34m)\u001b[0m\u001b[0;34m\u001b[0m\u001b[0;34m\u001b[0m\u001b[0m\n\u001b[0m\u001b[1;32m      3\u001b[0m \u001b[0msgtembedding_df\u001b[0m\u001b[0;34m\u001b[0m\u001b[0;34m\u001b[0m\u001b[0m\n",
      "\u001b[0;31mNameError\u001b[0m: name 'sgtembedding_df' is not defined"
     ]
    }
   ],
   "source": [
    "# Set the id column as the dataframe index\n",
    "sgtembedding_df = sgtembedding_df.set_index('id')\n",
    "sgtembedding_df"
   ]
  },
  {
   "cell_type": "code",
   "execution_count": 7,
   "metadata": {},
   "outputs": [
    {
     "ename": "NameError",
     "evalue": "name 'PCA' is not defined",
     "output_type": "error",
     "traceback": [
      "\u001b[0;31m---------------------------------------------------------------------------\u001b[0m",
      "\u001b[0;31mNameError\u001b[0m                                 Traceback (most recent call last)",
      "\u001b[0;32m<ipython-input-7-cd15b92ca929>\u001b[0m in \u001b[0;36m<module>\u001b[0;34m\u001b[0m\n\u001b[1;32m      1\u001b[0m \u001b[0;31m# We perform PCA on the sequence embeddings and then do kmeans clustering.\u001b[0m\u001b[0;34m\u001b[0m\u001b[0;34m\u001b[0m\u001b[0;34m\u001b[0m\u001b[0m\n\u001b[1;32m      2\u001b[0m \u001b[0;34m\u001b[0m\u001b[0m\n\u001b[0;32m----> 3\u001b[0;31m \u001b[0mpca\u001b[0m \u001b[0;34m=\u001b[0m \u001b[0mPCA\u001b[0m\u001b[0;34m(\u001b[0m\u001b[0mn_components\u001b[0m\u001b[0;34m=\u001b[0m\u001b[0;36m2\u001b[0m\u001b[0;34m)\u001b[0m\u001b[0;34m\u001b[0m\u001b[0;34m\u001b[0m\u001b[0m\n\u001b[0m\u001b[1;32m      4\u001b[0m \u001b[0mpca\u001b[0m\u001b[0;34m.\u001b[0m\u001b[0mfit\u001b[0m\u001b[0;34m(\u001b[0m\u001b[0msgtembedding_df\u001b[0m\u001b[0;34m)\u001b[0m\u001b[0;34m\u001b[0m\u001b[0;34m\u001b[0m\u001b[0m\n\u001b[1;32m      5\u001b[0m \u001b[0;34m\u001b[0m\u001b[0m\n",
      "\u001b[0;31mNameError\u001b[0m: name 'PCA' is not defined"
     ]
    }
   ],
   "source": [
    "# We perform PCA on the sequence embeddings and then do kmeans clustering.\n",
    "\n",
    "pca = PCA(n_components=2)\n",
    "pca.fit(sgtembedding_df)\n",
    "\n",
    "X=pca.transform(sgtembedding_df)\n",
    "\n",
    "print(np.sum(pca.explained_variance_ratio_))\n",
    "df = pd.DataFrame(data=X, columns=['x1', 'x2'])\n",
    "df.head()"
   ]
  },
  {
   "cell_type": "code",
   "execution_count": 8,
   "metadata": {},
   "outputs": [
    {
     "ename": "NameError",
     "evalue": "name 'KMeans' is not defined",
     "output_type": "error",
     "traceback": [
      "\u001b[0;31m---------------------------------------------------------------------------\u001b[0m",
      "\u001b[0;31mNameError\u001b[0m                                 Traceback (most recent call last)",
      "\u001b[0;32m<ipython-input-8-a749c2004026>\u001b[0m in \u001b[0;36m<module>\u001b[0;34m\u001b[0m\n\u001b[0;32m----> 1\u001b[0;31m \u001b[0mkmeans\u001b[0m \u001b[0;34m=\u001b[0m \u001b[0mKMeans\u001b[0m\u001b[0;34m(\u001b[0m\u001b[0mn_clusters\u001b[0m\u001b[0;34m=\u001b[0m\u001b[0;36m3\u001b[0m\u001b[0;34m,\u001b[0m \u001b[0mmax_iter\u001b[0m \u001b[0;34m=\u001b[0m\u001b[0;36m300\u001b[0m\u001b[0;34m)\u001b[0m\u001b[0;34m\u001b[0m\u001b[0;34m\u001b[0m\u001b[0m\n\u001b[0m\u001b[1;32m      2\u001b[0m \u001b[0mkmeans\u001b[0m\u001b[0;34m.\u001b[0m\u001b[0mfit\u001b[0m\u001b[0;34m(\u001b[0m\u001b[0mdf\u001b[0m\u001b[0;34m)\u001b[0m\u001b[0;34m\u001b[0m\u001b[0;34m\u001b[0m\u001b[0m\n\u001b[1;32m      3\u001b[0m \u001b[0;34m\u001b[0m\u001b[0m\n\u001b[1;32m      4\u001b[0m \u001b[0mlabels\u001b[0m \u001b[0;34m=\u001b[0m \u001b[0mkmeans\u001b[0m\u001b[0;34m.\u001b[0m\u001b[0mpredict\u001b[0m\u001b[0;34m(\u001b[0m\u001b[0mdf\u001b[0m\u001b[0;34m)\u001b[0m\u001b[0;34m\u001b[0m\u001b[0;34m\u001b[0m\u001b[0m\n\u001b[1;32m      5\u001b[0m \u001b[0mcentroids\u001b[0m \u001b[0;34m=\u001b[0m \u001b[0mkmeans\u001b[0m\u001b[0;34m.\u001b[0m\u001b[0mcluster_centers_\u001b[0m\u001b[0;34m\u001b[0m\u001b[0;34m\u001b[0m\u001b[0m\n",
      "\u001b[0;31mNameError\u001b[0m: name 'KMeans' is not defined"
     ]
    }
   ],
   "source": [
    "kmeans = KMeans(n_clusters=3, max_iter =300)\n",
    "kmeans.fit(df)\n",
    "\n",
    "labels = kmeans.predict(df)\n",
    "centroids = kmeans.cluster_centers_\n",
    "\n",
    "fig = plt.figure(figsize=(5, 5))\n",
    "colmap = {1: 'r', 2: 'g', 3: 'b'}\n",
    "colors = list(map(lambda x: colmap[x+1], labels))\n",
    "plt.scatter(df['x1'], df['x2'], color=colors, alpha=0.5, edgecolor=colors)"
   ]
  }
 ],
 "metadata": {
  "kernelspec": {
   "display_name": "Python 3",
   "language": "python",
   "name": "python3"
  },
  "language_info": {
   "codemirror_mode": {
    "name": "ipython",
    "version": 3
   },
   "file_extension": ".py",
   "mimetype": "text/x-python",
   "name": "python",
   "nbconvert_exporter": "python",
   "pygments_lexer": "ipython3",
   "version": "3.7.6"
  }
 },
 "nbformat": 4,
 "nbformat_minor": 4
}
